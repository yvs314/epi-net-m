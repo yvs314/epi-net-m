version https://git-lfs.github.com/spec/v1
oid sha256:db6e23a4ebffcd7f109b6b19fb21e230edda23e3da4576f80f6bae9d3b9abfa4
size 365402
