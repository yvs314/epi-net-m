version https://git-lfs.github.com/spec/v1
oid sha256:3e037da8370f549b92cd821a248d3ef2c9f99ed3df1571677b17d3a67a3aa139
size 317528
