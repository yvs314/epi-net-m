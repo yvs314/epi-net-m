version https://git-lfs.github.com/spec/v1
oid sha256:2840e0af96f69d6f207f3b196e8461a8b89434748d8dd097e8bcf29f3b8ce300
size 246401
