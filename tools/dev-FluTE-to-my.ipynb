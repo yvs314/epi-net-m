{
 "cells": [
  {
   "cell_type": "markdown",
   "metadata": {},
   "source": [
    "FluTE `$name-tract.dat`, `$name-wf.dat` to my `$name_$size-init.csv`, `$name_$size-flug.dat`. "
   ]
  },
  {
   "cell_type": "markdown",
   "metadata": {},
   "source": [
    "*CAVEAT*: Clean the output before committing"
   ]
  },
  {
   "cell_type": "markdown",
   "metadata": {},
   "source": [
    "Assumed location: `tools`"
   ]
  },
  {
   "cell_type": "code",
   "execution_count": 19,
   "metadata": {},
   "outputs": [
    {
     "data": {
      "text/plain": [
       "\"/Users/yarr/repos/epi-net-m/tools\""
      ]
     },
     "execution_count": 19,
     "metadata": {},
     "output_type": "execute_result"
    }
   ],
   "source": [
    "pwd()"
   ]
  },
  {
   "cell_type": "markdown",
   "metadata": {},
   "source": [
    "FluTE data path: `data/by-tract/flute`; Rel.:`../data/by-tract/flute`\n",
    "\n",
    "Output path: `data/by-tract`; Rel.:`../data/by-tract`"
   ]
  },
  {
   "cell_type": "code",
   "execution_count": 20,
   "metadata": {},
   "outputs": [],
   "source": [
    "#reading ingress $name-tract.dat, $name-wf.dat$\n",
    "using DelimitedFiles\n",
    "#reading ingress; possibly, output too\n",
    "using CSV\n",
    "#transforming the data\n",
    "using DataFrames\n",
    "#cool multi-column transforms; mostly for @byrow\n",
    "#using DataFramesMeta"
   ]
  },
  {
   "cell_type": "markdown",
   "metadata": {},
   "source": [
    "Start with **initial values**, `$name-tract.dat` -> `$name_$size-init.csv`"
   ]
  },
  {
   "cell_type": "code",
   "execution_count": 35,
   "metadata": {},
   "outputs": [
    {
     "data": {
      "text/plain": [
       "\"_\""
      ]
     },
     "execution_count": 35,
     "metadata": {},
     "output_type": "execute_result"
    }
   ],
   "source": [
    "flt_IV_suff=\"-tracts.dat\"\n",
    "my_IV_suff=\"-init.csv\"\n",
    "ifDir = joinpath(\"..\",\"data\",\"by-tract\",\"flute\")\n",
    "ofDir = joinpath(\"..\",\"data\",\"by-tract\")\n",
    "#separates file name fields\n",
    "fnSep=\"-\"\n",
    "#separates elements of file names\n",
    "fnSubSep=\"_\"\n",
    "#FIPS codes are (State,County,Tract); I'd write them $State$County$Tract\n",
    "#I'd just concatenate it all; it's SSCCCTTTTTT (at least in seattle-tracts.dat)\n",
    "#2-digit State, 3-digit County, and 6-digit Tract, and a sensible sort as integers"
   ]
  },
  {
   "cell_type": "code",
   "execution_count": 22,
   "metadata": {},
   "outputs": [
    {
     "data": {
      "text/plain": [
       "4-element Array{SubString{String},1}:\n",
       " \"la\"\n",
       " \"one\"\n",
       " \"seattle\"\n",
       " \"usa\""
      ]
     },
     "execution_count": 22,
     "metadata": {},
     "output_type": "execute_result"
    }
   ],
   "source": [
    "#pick only those inding in \"-tracts.dat\", sort of IVs, with tract ID, pop, long, lat\n",
    "ivFiles=filter(s -> endswith(s,flt_IV_suff),readdir(ifDir))\n",
    "#just the names, for later usage\n",
    "instNames = map(s->split(s,fnSep)[1],ivFiles)"
   ]
  },
  {
   "cell_type": "code",
   "execution_count": 36,
   "metadata": {},
   "outputs": [
    {
     "data": {
      "text/html": [
       "<table class=\"data-frame\"><thead><tr><th></th><th>Column1</th><th>Column2</th><th>Column3</th><th>Column4</th><th>Column5</th><th>Column6</th></tr><tr><th></th><th>String</th><th>String</th><th>String</th><th>Int64</th><th>Float64</th><th>Float64</th></tr></thead><tbody><p>5 rows × 6 columns</p><tr><th>1</th><td>53</td><td>033</td><td>000100</td><td>5530</td><td>47.7275</td><td>-122.291</td></tr><tr><th>2</th><td>53</td><td>033</td><td>000200</td><td>7345</td><td>47.7267</td><td>-122.309</td></tr><tr><th>3</th><td>53</td><td>033</td><td>000300</td><td>2485</td><td>47.7307</td><td>-122.336</td></tr><tr><th>4</th><td>53</td><td>033</td><td>000401</td><td>4734</td><td>47.7282</td><td>-122.353</td></tr><tr><th>5</th><td>53</td><td>033</td><td>000402</td><td>4582</td><td>47.7177</td><td>-122.354</td></tr></tbody></table>"
      ],
      "text/latex": [
       "\\begin{tabular}{r|cccccc}\n",
       "\t& Column1 & Column2 & Column3 & Column4 & Column5 & Column6\\\\\n",
       "\t\\hline\n",
       "\t& String & String & String & Int64 & Float64 & Float64\\\\\n",
       "\t\\hline\n",
       "\t1 & 53 & 033 & 000100 & 5530 & 47.7275 & -122.291 \\\\\n",
       "\t2 & 53 & 033 & 000200 & 7345 & 47.7267 & -122.309 \\\\\n",
       "\t3 & 53 & 033 & 000300 & 2485 & 47.7307 & -122.336 \\\\\n",
       "\t4 & 53 & 033 & 000401 & 4734 & 47.7282 & -122.353 \\\\\n",
       "\t5 & 53 & 033 & 000402 & 4582 & 47.7177 & -122.354 \\\\\n",
       "\\end{tabular}\n"
      ],
      "text/plain": [
       "5×6 DataFrame\n",
       "│ Row │ Column1 │ Column2 │ Column3 │ Column4 │ Column5 │ Column6  │\n",
       "│     │ \u001b[90mString\u001b[39m  │ \u001b[90mString\u001b[39m  │ \u001b[90mString\u001b[39m  │ \u001b[90mInt64\u001b[39m   │ \u001b[90mFloat64\u001b[39m │ \u001b[90mFloat64\u001b[39m  │\n",
       "├─────┼─────────┼─────────┼─────────┼─────────┼─────────┼──────────┤\n",
       "│ 1   │ 53      │ 033     │ 000100  │ 5530    │ 47.7275 │ -122.291 │\n",
       "│ 2   │ 53      │ 033     │ 000200  │ 7345    │ 47.7267 │ -122.309 │\n",
       "│ 3   │ 53      │ 033     │ 000300  │ 2485    │ 47.7307 │ -122.336 │\n",
       "│ 4   │ 53      │ 033     │ 000401  │ 4734    │ 47.7282 │ -122.353 │\n",
       "│ 5   │ 53      │ 033     │ 000402  │ 4582    │ 47.7177 │ -122.354 │"
      ]
     },
     "execution_count": 36,
     "metadata": {},
     "output_type": "execute_result"
    }
   ],
   "source": [
    "#start with Seattle, #3 in ivFiles\n",
    "#it doesn't have a header\n",
    "#the columns are (FIPS_state,FIPS_county,FIPS_tract,pop,long,lat)\n",
    "dfRaw=CSV.File(joinpath(ifDir,ivFiles[3])\n",
    "    ,header=false\n",
    "    ,types=[String,String,String,Int64,Float64,Float64]) |> DataFrame\n",
    "# nrow(dfRaw) 124 tracts in Seattle\n",
    "dfRaw[1:5,:] #lazy output truncation"
   ]
  },
  {
   "cell_type": "code",
   "execution_count": 38,
   "metadata": {},
   "outputs": [
    {
     "data": {
      "text/html": [
       "<table class=\"data-frame\"><thead><tr><th></th><th>Column4</th><th>Column5</th><th>Column6</th><th>id</th></tr><tr><th></th><th>Int64</th><th>Float64</th><th>Float64</th><th>String</th></tr></thead><tbody><p>124 rows × 4 columns</p><tr><th>1</th><td>5530</td><td>47.7275</td><td>-122.291</td><td>53033000100</td></tr><tr><th>2</th><td>7345</td><td>47.7267</td><td>-122.309</td><td>53033000200</td></tr><tr><th>3</th><td>2485</td><td>47.7307</td><td>-122.336</td><td>53033000300</td></tr><tr><th>4</th><td>4734</td><td>47.7282</td><td>-122.353</td><td>53033000401</td></tr><tr><th>5</th><td>4582</td><td>47.7177</td><td>-122.354</td><td>53033000402</td></tr><tr><th>6</th><td>3296</td><td>47.7207</td><td>-122.367</td><td>53033000500</td></tr><tr><th>7</th><td>7361</td><td>47.7171</td><td>-122.328</td><td>53033000600</td></tr><tr><th>8</th><td>4189</td><td>47.7161</td><td>-122.3</td><td>53033000700</td></tr><tr><th>9</th><td>2600</td><td>47.7116</td><td>-122.286</td><td>53033000800</td></tr><tr><th>10</th><td>2044</td><td>47.7094</td><td>-122.278</td><td>53033000900</td></tr><tr><th>11</th><td>1705</td><td>47.7064</td><td>-122.297</td><td>53033001000</td></tr><tr><th>12</th><td>2369</td><td>47.7066</td><td>-122.306</td><td>53033001100</td></tr><tr><th>13</th><td>6106</td><td>47.7075</td><td>-122.323</td><td>53033001200</td></tr><tr><th>14</th><td>4183</td><td>47.7027</td><td>-122.343</td><td>53033001300</td></tr><tr><th>15</th><td>4673</td><td>47.7059</td><td>-122.362</td><td>53033001400</td></tr><tr><th>16</th><td>2350</td><td>47.6957</td><td>-122.394</td><td>53033001500</td></tr><tr><th>17</th><td>3946</td><td>47.6976</td><td>-122.38</td><td>53033001600</td></tr><tr><th>18</th><td>7448</td><td>47.6966</td><td>-122.359</td><td>53033001700</td></tr><tr><th>19</th><td>3991</td><td>47.6941</td><td>-122.343</td><td>53033001800</td></tr><tr><th>20</th><td>3423</td><td>47.6955</td><td>-122.324</td><td>53033001900</td></tr><tr><th>21</th><td>3116</td><td>47.6957</td><td>-122.311</td><td>53033002000</td></tr><tr><th>22</th><td>3637</td><td>47.6948</td><td>-122.298</td><td>53033002100</td></tr><tr><th>23</th><td>5396</td><td>47.6949</td><td>-122.281</td><td>53033002200</td></tr><tr><th>24</th><td>2828</td><td>47.6861</td><td>-122.288</td><td>53033002400</td></tr><tr><th>25</th><td>2541</td><td>47.683</td><td>-122.303</td><td>53033002500</td></tr><tr><th>26</th><td>4522</td><td>47.6827</td><td>-122.311</td><td>53033002600</td></tr><tr><th>27</th><td>4943</td><td>47.6868</td><td>-122.331</td><td>53033002700</td></tr><tr><th>28</th><td>4232</td><td>47.6848</td><td>-122.35</td><td>53033002800</td></tr><tr><th>29</th><td>3984</td><td>47.685</td><td>-122.361</td><td>53033002900</td></tr><tr><th>30</th><td>5250</td><td>47.6849</td><td>-122.374</td><td>53033003000</td></tr><tr><th>&vellip;</th><td>&vellip;</td><td>&vellip;</td><td>&vellip;</td><td>&vellip;</td></tr></tbody></table>"
      ],
      "text/latex": [
       "\\begin{tabular}{r|cccc}\n",
       "\t& Column4 & Column5 & Column6 & id\\\\\n",
       "\t\\hline\n",
       "\t& Int64 & Float64 & Float64 & String\\\\\n",
       "\t\\hline\n",
       "\t1 & 5530 & 47.7275 & -122.291 & 53033000100 \\\\\n",
       "\t2 & 7345 & 47.7267 & -122.309 & 53033000200 \\\\\n",
       "\t3 & 2485 & 47.7307 & -122.336 & 53033000300 \\\\\n",
       "\t4 & 4734 & 47.7282 & -122.353 & 53033000401 \\\\\n",
       "\t5 & 4582 & 47.7177 & -122.354 & 53033000402 \\\\\n",
       "\t6 & 3296 & 47.7207 & -122.367 & 53033000500 \\\\\n",
       "\t7 & 7361 & 47.7171 & -122.328 & 53033000600 \\\\\n",
       "\t8 & 4189 & 47.7161 & -122.3 & 53033000700 \\\\\n",
       "\t9 & 2600 & 47.7116 & -122.286 & 53033000800 \\\\\n",
       "\t10 & 2044 & 47.7094 & -122.278 & 53033000900 \\\\\n",
       "\t11 & 1705 & 47.7064 & -122.297 & 53033001000 \\\\\n",
       "\t12 & 2369 & 47.7066 & -122.306 & 53033001100 \\\\\n",
       "\t13 & 6106 & 47.7075 & -122.323 & 53033001200 \\\\\n",
       "\t14 & 4183 & 47.7027 & -122.343 & 53033001300 \\\\\n",
       "\t15 & 4673 & 47.7059 & -122.362 & 53033001400 \\\\\n",
       "\t16 & 2350 & 47.6957 & -122.394 & 53033001500 \\\\\n",
       "\t17 & 3946 & 47.6976 & -122.38 & 53033001600 \\\\\n",
       "\t18 & 7448 & 47.6966 & -122.359 & 53033001700 \\\\\n",
       "\t19 & 3991 & 47.6941 & -122.343 & 53033001800 \\\\\n",
       "\t20 & 3423 & 47.6955 & -122.324 & 53033001900 \\\\\n",
       "\t21 & 3116 & 47.6957 & -122.311 & 53033002000 \\\\\n",
       "\t22 & 3637 & 47.6948 & -122.298 & 53033002100 \\\\\n",
       "\t23 & 5396 & 47.6949 & -122.281 & 53033002200 \\\\\n",
       "\t24 & 2828 & 47.6861 & -122.288 & 53033002400 \\\\\n",
       "\t25 & 2541 & 47.683 & -122.303 & 53033002500 \\\\\n",
       "\t26 & 4522 & 47.6827 & -122.311 & 53033002600 \\\\\n",
       "\t27 & 4943 & 47.6868 & -122.331 & 53033002700 \\\\\n",
       "\t28 & 4232 & 47.6848 & -122.35 & 53033002800 \\\\\n",
       "\t29 & 3984 & 47.685 & -122.361 & 53033002900 \\\\\n",
       "\t30 & 5250 & 47.6849 & -122.374 & 53033003000 \\\\\n",
       "\t$\\dots$ & $\\dots$ & $\\dots$ & $\\dots$ & $\\dots$ \\\\\n",
       "\\end{tabular}\n"
      ],
      "text/plain": [
       "124×4 DataFrame\n",
       "│ Row │ Column4 │ Column5 │ Column6  │ id          │\n",
       "│     │ \u001b[90mInt64\u001b[39m   │ \u001b[90mFloat64\u001b[39m │ \u001b[90mFloat64\u001b[39m  │ \u001b[90mString\u001b[39m      │\n",
       "├─────┼─────────┼─────────┼──────────┼─────────────┤\n",
       "│ 1   │ 5530    │ 47.7275 │ -122.291 │ 53033000100 │\n",
       "│ 2   │ 7345    │ 47.7267 │ -122.309 │ 53033000200 │\n",
       "│ 3   │ 2485    │ 47.7307 │ -122.336 │ 53033000300 │\n",
       "│ 4   │ 4734    │ 47.7282 │ -122.353 │ 53033000401 │\n",
       "│ 5   │ 4582    │ 47.7177 │ -122.354 │ 53033000402 │\n",
       "│ 6   │ 3296    │ 47.7207 │ -122.367 │ 53033000500 │\n",
       "│ 7   │ 7361    │ 47.7171 │ -122.328 │ 53033000600 │\n",
       "│ 8   │ 4189    │ 47.7161 │ -122.3   │ 53033000700 │\n",
       "│ 9   │ 2600    │ 47.7116 │ -122.286 │ 53033000800 │\n",
       "│ 10  │ 2044    │ 47.7094 │ -122.278 │ 53033000900 │\n",
       "⋮\n",
       "│ 114 │ 4360    │ 47.5391 │ -122.269 │ 53033011102 │\n",
       "│ 115 │ 3717    │ 47.5261 │ -122.322 │ 53033011200 │\n",
       "│ 116 │ 5975    │ 47.5258 │ -122.348 │ 53033011300 │\n",
       "│ 117 │ 7904    │ 47.5252 │ -122.362 │ 53033011400 │\n",
       "│ 118 │ 4173    │ 47.5302 │ -122.376 │ 53033011500 │\n",
       "│ 119 │ 6111    │ 47.5299 │ -122.387 │ 53033011600 │\n",
       "│ 120 │ 5192    │ 47.5233 │ -122.282 │ 53033011700 │\n",
       "│ 121 │ 7497    │ 47.5231 │ -122.267 │ 53033011800 │\n",
       "│ 122 │ 7161    │ 47.5054 │ -122.258 │ 53033011900 │\n",
       "│ 123 │ 3401    │ 47.5129 │ -122.38  │ 53033012000 │\n",
       "│ 124 │ 2745    │ 47.5065 │ -122.382 │ 53033012100 │"
      ]
     },
     "execution_count": 38,
     "metadata": {},
     "output_type": "execute_result"
    }
   ],
   "source": [
    "#copy dfRaw, to prevent mutating it\n",
    "dfA=DataFrame(dfRaw)#, :Column4 => :N_i, :Column5 =>Long, :Column6 => Lat)\n",
    "#concatenate the FIPS columns into a new one, “id”\n",
    "dfA.id = map((s,z,w)-> join([s,z,w]),dfA.Column1,dfA.Column2,dfA.Column3)\n",
    "#chuck the now-useless cols 1–3\n",
    "dfB=select(dfA, Not([:1,:2,:3]))"
   ]
  },
  {
   "cell_type": "code",
   "execution_count": 33,
   "metadata": {},
   "outputs": [
    {
     "data": {
      "text/html": [
       "<table class=\"data-frame\"><thead><tr><th></th><th>Column1</th><th>Column2</th><th>Column3</th><th>Column4</th><th>Column5</th><th>Column6</th><th>id</th></tr><tr><th></th><th>String</th><th>String</th><th>String</th><th>Int64</th><th>Float64</th><th>Float64</th><th>String</th></tr></thead><tbody><p>124 rows × 7 columns</p><tr><th>1</th><td>53</td><td>033</td><td>000100</td><td>5530</td><td>47.7275</td><td>-122.291</td><td>53033000100</td></tr><tr><th>2</th><td>53</td><td>033</td><td>000200</td><td>7345</td><td>47.7267</td><td>-122.309</td><td>53033000200</td></tr><tr><th>3</th><td>53</td><td>033</td><td>000300</td><td>2485</td><td>47.7307</td><td>-122.336</td><td>53033000300</td></tr><tr><th>4</th><td>53</td><td>033</td><td>000401</td><td>4734</td><td>47.7282</td><td>-122.353</td><td>53033000401</td></tr><tr><th>5</th><td>53</td><td>033</td><td>000402</td><td>4582</td><td>47.7177</td><td>-122.354</td><td>53033000402</td></tr><tr><th>6</th><td>53</td><td>033</td><td>000500</td><td>3296</td><td>47.7207</td><td>-122.367</td><td>53033000500</td></tr><tr><th>7</th><td>53</td><td>033</td><td>000600</td><td>7361</td><td>47.7171</td><td>-122.328</td><td>53033000600</td></tr><tr><th>8</th><td>53</td><td>033</td><td>000700</td><td>4189</td><td>47.7161</td><td>-122.3</td><td>53033000700</td></tr><tr><th>9</th><td>53</td><td>033</td><td>000800</td><td>2600</td><td>47.7116</td><td>-122.286</td><td>53033000800</td></tr><tr><th>10</th><td>53</td><td>033</td><td>000900</td><td>2044</td><td>47.7094</td><td>-122.278</td><td>53033000900</td></tr><tr><th>11</th><td>53</td><td>033</td><td>001000</td><td>1705</td><td>47.7064</td><td>-122.297</td><td>53033001000</td></tr><tr><th>12</th><td>53</td><td>033</td><td>001100</td><td>2369</td><td>47.7066</td><td>-122.306</td><td>53033001100</td></tr><tr><th>13</th><td>53</td><td>033</td><td>001200</td><td>6106</td><td>47.7075</td><td>-122.323</td><td>53033001200</td></tr><tr><th>14</th><td>53</td><td>033</td><td>001300</td><td>4183</td><td>47.7027</td><td>-122.343</td><td>53033001300</td></tr><tr><th>15</th><td>53</td><td>033</td><td>001400</td><td>4673</td><td>47.7059</td><td>-122.362</td><td>53033001400</td></tr><tr><th>16</th><td>53</td><td>033</td><td>001500</td><td>2350</td><td>47.6957</td><td>-122.394</td><td>53033001500</td></tr><tr><th>17</th><td>53</td><td>033</td><td>001600</td><td>3946</td><td>47.6976</td><td>-122.38</td><td>53033001600</td></tr><tr><th>18</th><td>53</td><td>033</td><td>001700</td><td>7448</td><td>47.6966</td><td>-122.359</td><td>53033001700</td></tr><tr><th>19</th><td>53</td><td>033</td><td>001800</td><td>3991</td><td>47.6941</td><td>-122.343</td><td>53033001800</td></tr><tr><th>20</th><td>53</td><td>033</td><td>001900</td><td>3423</td><td>47.6955</td><td>-122.324</td><td>53033001900</td></tr><tr><th>21</th><td>53</td><td>033</td><td>002000</td><td>3116</td><td>47.6957</td><td>-122.311</td><td>53033002000</td></tr><tr><th>22</th><td>53</td><td>033</td><td>002100</td><td>3637</td><td>47.6948</td><td>-122.298</td><td>53033002100</td></tr><tr><th>23</th><td>53</td><td>033</td><td>002200</td><td>5396</td><td>47.6949</td><td>-122.281</td><td>53033002200</td></tr><tr><th>24</th><td>53</td><td>033</td><td>002400</td><td>2828</td><td>47.6861</td><td>-122.288</td><td>53033002400</td></tr><tr><th>25</th><td>53</td><td>033</td><td>002500</td><td>2541</td><td>47.683</td><td>-122.303</td><td>53033002500</td></tr><tr><th>26</th><td>53</td><td>033</td><td>002600</td><td>4522</td><td>47.6827</td><td>-122.311</td><td>53033002600</td></tr><tr><th>27</th><td>53</td><td>033</td><td>002700</td><td>4943</td><td>47.6868</td><td>-122.331</td><td>53033002700</td></tr><tr><th>28</th><td>53</td><td>033</td><td>002800</td><td>4232</td><td>47.6848</td><td>-122.35</td><td>53033002800</td></tr><tr><th>29</th><td>53</td><td>033</td><td>002900</td><td>3984</td><td>47.685</td><td>-122.361</td><td>53033002900</td></tr><tr><th>30</th><td>53</td><td>033</td><td>003000</td><td>5250</td><td>47.6849</td><td>-122.374</td><td>53033003000</td></tr><tr><th>&vellip;</th><td>&vellip;</td><td>&vellip;</td><td>&vellip;</td><td>&vellip;</td><td>&vellip;</td><td>&vellip;</td><td>&vellip;</td></tr></tbody></table>"
      ],
      "text/latex": [
       "\\begin{tabular}{r|ccccccc}\n",
       "\t& Column1 & Column2 & Column3 & Column4 & Column5 & Column6 & id\\\\\n",
       "\t\\hline\n",
       "\t& String & String & String & Int64 & Float64 & Float64 & String\\\\\n",
       "\t\\hline\n",
       "\t1 & 53 & 033 & 000100 & 5530 & 47.7275 & -122.291 & 53033000100 \\\\\n",
       "\t2 & 53 & 033 & 000200 & 7345 & 47.7267 & -122.309 & 53033000200 \\\\\n",
       "\t3 & 53 & 033 & 000300 & 2485 & 47.7307 & -122.336 & 53033000300 \\\\\n",
       "\t4 & 53 & 033 & 000401 & 4734 & 47.7282 & -122.353 & 53033000401 \\\\\n",
       "\t5 & 53 & 033 & 000402 & 4582 & 47.7177 & -122.354 & 53033000402 \\\\\n",
       "\t6 & 53 & 033 & 000500 & 3296 & 47.7207 & -122.367 & 53033000500 \\\\\n",
       "\t7 & 53 & 033 & 000600 & 7361 & 47.7171 & -122.328 & 53033000600 \\\\\n",
       "\t8 & 53 & 033 & 000700 & 4189 & 47.7161 & -122.3 & 53033000700 \\\\\n",
       "\t9 & 53 & 033 & 000800 & 2600 & 47.7116 & -122.286 & 53033000800 \\\\\n",
       "\t10 & 53 & 033 & 000900 & 2044 & 47.7094 & -122.278 & 53033000900 \\\\\n",
       "\t11 & 53 & 033 & 001000 & 1705 & 47.7064 & -122.297 & 53033001000 \\\\\n",
       "\t12 & 53 & 033 & 001100 & 2369 & 47.7066 & -122.306 & 53033001100 \\\\\n",
       "\t13 & 53 & 033 & 001200 & 6106 & 47.7075 & -122.323 & 53033001200 \\\\\n",
       "\t14 & 53 & 033 & 001300 & 4183 & 47.7027 & -122.343 & 53033001300 \\\\\n",
       "\t15 & 53 & 033 & 001400 & 4673 & 47.7059 & -122.362 & 53033001400 \\\\\n",
       "\t16 & 53 & 033 & 001500 & 2350 & 47.6957 & -122.394 & 53033001500 \\\\\n",
       "\t17 & 53 & 033 & 001600 & 3946 & 47.6976 & -122.38 & 53033001600 \\\\\n",
       "\t18 & 53 & 033 & 001700 & 7448 & 47.6966 & -122.359 & 53033001700 \\\\\n",
       "\t19 & 53 & 033 & 001800 & 3991 & 47.6941 & -122.343 & 53033001800 \\\\\n",
       "\t20 & 53 & 033 & 001900 & 3423 & 47.6955 & -122.324 & 53033001900 \\\\\n",
       "\t21 & 53 & 033 & 002000 & 3116 & 47.6957 & -122.311 & 53033002000 \\\\\n",
       "\t22 & 53 & 033 & 002100 & 3637 & 47.6948 & -122.298 & 53033002100 \\\\\n",
       "\t23 & 53 & 033 & 002200 & 5396 & 47.6949 & -122.281 & 53033002200 \\\\\n",
       "\t24 & 53 & 033 & 002400 & 2828 & 47.6861 & -122.288 & 53033002400 \\\\\n",
       "\t25 & 53 & 033 & 002500 & 2541 & 47.683 & -122.303 & 53033002500 \\\\\n",
       "\t26 & 53 & 033 & 002600 & 4522 & 47.6827 & -122.311 & 53033002600 \\\\\n",
       "\t27 & 53 & 033 & 002700 & 4943 & 47.6868 & -122.331 & 53033002700 \\\\\n",
       "\t28 & 53 & 033 & 002800 & 4232 & 47.6848 & -122.35 & 53033002800 \\\\\n",
       "\t29 & 53 & 033 & 002900 & 3984 & 47.685 & -122.361 & 53033002900 \\\\\n",
       "\t30 & 53 & 033 & 003000 & 5250 & 47.6849 & -122.374 & 53033003000 \\\\\n",
       "\t$\\dots$ & $\\dots$ & $\\dots$ & $\\dots$ & $\\dots$ & $\\dots$ & $\\dots$ & $\\dots$ \\\\\n",
       "\\end{tabular}\n"
      ],
      "text/plain": [
       "124×7 DataFrame. Omitted printing of 1 columns\n",
       "│ Row │ Column1 │ Column2 │ Column3 │ Column4 │ Column5 │ Column6  │\n",
       "│     │ \u001b[90mString\u001b[39m  │ \u001b[90mString\u001b[39m  │ \u001b[90mString\u001b[39m  │ \u001b[90mInt64\u001b[39m   │ \u001b[90mFloat64\u001b[39m │ \u001b[90mFloat64\u001b[39m  │\n",
       "├─────┼─────────┼─────────┼─────────┼─────────┼─────────┼──────────┤\n",
       "│ 1   │ 53      │ 033     │ 000100  │ 5530    │ 47.7275 │ -122.291 │\n",
       "│ 2   │ 53      │ 033     │ 000200  │ 7345    │ 47.7267 │ -122.309 │\n",
       "│ 3   │ 53      │ 033     │ 000300  │ 2485    │ 47.7307 │ -122.336 │\n",
       "│ 4   │ 53      │ 033     │ 000401  │ 4734    │ 47.7282 │ -122.353 │\n",
       "│ 5   │ 53      │ 033     │ 000402  │ 4582    │ 47.7177 │ -122.354 │\n",
       "│ 6   │ 53      │ 033     │ 000500  │ 3296    │ 47.7207 │ -122.367 │\n",
       "│ 7   │ 53      │ 033     │ 000600  │ 7361    │ 47.7171 │ -122.328 │\n",
       "│ 8   │ 53      │ 033     │ 000700  │ 4189    │ 47.7161 │ -122.3   │\n",
       "│ 9   │ 53      │ 033     │ 000800  │ 2600    │ 47.7116 │ -122.286 │\n",
       "│ 10  │ 53      │ 033     │ 000900  │ 2044    │ 47.7094 │ -122.278 │\n",
       "⋮\n",
       "│ 114 │ 53      │ 033     │ 011102  │ 4360    │ 47.5391 │ -122.269 │\n",
       "│ 115 │ 53      │ 033     │ 011200  │ 3717    │ 47.5261 │ -122.322 │\n",
       "│ 116 │ 53      │ 033     │ 011300  │ 5975    │ 47.5258 │ -122.348 │\n",
       "│ 117 │ 53      │ 033     │ 011400  │ 7904    │ 47.5252 │ -122.362 │\n",
       "│ 118 │ 53      │ 033     │ 011500  │ 4173    │ 47.5302 │ -122.376 │\n",
       "│ 119 │ 53      │ 033     │ 011600  │ 6111    │ 47.5299 │ -122.387 │\n",
       "│ 120 │ 53      │ 033     │ 011700  │ 5192    │ 47.5233 │ -122.282 │\n",
       "│ 121 │ 53      │ 033     │ 011800  │ 7497    │ 47.5231 │ -122.267 │\n",
       "│ 122 │ 53      │ 033     │ 011900  │ 7161    │ 47.5054 │ -122.258 │\n",
       "│ 123 │ 53      │ 033     │ 012000  │ 3401    │ 47.5129 │ -122.38  │\n",
       "│ 124 │ 53      │ 033     │ 012100  │ 2745    │ 47.5065 │ -122.382 │"
      ]
     },
     "execution_count": 33,
     "metadata": {},
     "output_type": "execute_result"
    }
   ],
   "source": [
    "dfA"
   ]
  },
  {
   "cell_type": "code",
   "execution_count": null,
   "metadata": {},
   "outputs": [],
   "source": []
  }
 ],
 "metadata": {
  "kernelspec": {
   "display_name": "Julia 1.5.1",
   "language": "julia",
   "name": "julia-1.5"
  },
  "language_info": {
   "file_extension": ".jl",
   "mimetype": "application/julia",
   "name": "julia",
   "version": "1.5.1"
  }
 },
 "nbformat": 4,
 "nbformat_minor": 4
}
