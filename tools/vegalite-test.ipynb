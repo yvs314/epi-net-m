version https://git-lfs.github.com/spec/v1
oid sha256:78a415ecb11306dc9c5edfd3becef60fdd41c11039379c64ed6e49d235b92bc3
size 36695914
